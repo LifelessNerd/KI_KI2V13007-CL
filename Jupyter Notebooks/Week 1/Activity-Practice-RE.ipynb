{
 "cells": [
  {
   "cell_type": "markdown",
   "metadata": {},
   "source": [
    "# Searching with regular expressions\n",
    "\n",
    "_Practical Python for Linguistics and the Humanities -- Alexis Dimitriadis_"
   ]
  },
  {
   "cell_type": "markdown",
   "metadata": {},
   "source": [
    "Regular expressions are immensely useful for searching and modifying text. This Notebook contains some introductory exercises, but **is not an introduction**. It must be used after reading a basic introduction to the concept and syntax of regular expressions. \n",
    "\n",
    "If you are not already familiar with regular expressions, **read the introduction to regular expressions in Jurafsky & Martin, section 2.1** (temporarily made [available online][1] by the authors). It is a very accessible general introduction, but does not discuss how to use regular expressions in Python. This is no accident: Regular expressions are widely available in programming languages, website search windows, and stand-alone programs.  In this tutorial, we practice on a specially designed website. The use of regular expressions in Python is covered in a separate Notebook.\n",
    "\n",
    "[1]: https://web.stanford.edu/~jurafsky/slp3/"
   ]
  },
  {
   "cell_type": "markdown",
   "metadata": {
    "TableOfContents": 1
   },
   "source": [
    "## Contents\n",
    "\n",
    "\n",
    "**[1. Setting up](#1.-Setting-up)**  \n",
    "\n",
    "**[2. Recognizing string patterns](#2.-Recognizing-string-patterns)**  \n",
    "\n",
    "**[3. Character classes and other escapes](#3.-Character-classes-and-other-escapes)**  \n",
    "\n",
    "**[4. Matching entire words](#4.-Matching-entire-words)**  \n",
    "\n",
    "**[5. Line-oriented searches](#5.-Line-oriented-searches)**  \n"
   ]
  },
  {
   "cell_type": "markdown",
   "metadata": {},
   "source": [
    "## 1. Setting up\n",
    "\n",
    "1. Open the website http://regexpal.com in a new browser window. Adjust the site options as follows: \n",
    "\n",
    "    * Find the button labeled <span style='background-color: #EEEEEE'>\"Javascript\"</span> near the top right of the main input area, expand it and change it to \n",
    "   <span style='background-color: #EEEEEE'>\"PCRE\"</span>. (Stands for \"Perl-compatible regular expressions\", which is the type that Python uses. The differences are minimal: Javascript lacks some advanced features that we do not even cover here.)\n",
    "   \n",
    "    * Find the label <span style='background-color: #EEEEEE'>\"⚑ flags\"</span> next to the Javascript/PCRE button, click on it to expand the menu, and enable the box **\"☑ `multiline (m)\"`**. This is the best configuration for line-oriented searches. The **\"`global (g)`\"** option was already enabled, so the regular expression field should now look like this: <span style='color: gray'>/ /gm</span>. You'll type your regular expressions between the slashes.\n",
    "    * You may also want to reduce the text size in your browser (Control-minus), to allow more text to be seen.\n",
    "    <br/>&nbsp;\n",
    "\n",
    "2. In this notebook: Click on the text cell below, which contains a fragment from the beginning of the novel _Moby Dick_. Select all its text with Control-A, copy it to the clipboard, and paste it into the larger window (labeled \"Test String\") in the regexpal.com page.<p/>\n",
    "\n",
    "3. Scroll down to the list of tasks in this notebook. Use regexpal.com to develop and test solutions, then add your answer to each task as you work. There are four sets of tasks, with 24 questions in total. <p/>\n",
    "\n",
    "Tasks start simple and get generally more complicated. When the time comes to really use regular expressions, you'll probably need only a few simple templates. Your goal today is to learn, not to achieve the \"right\" result in some way you don't understand. Approach this as a new kind of puzzle, refer to this handy [summary of regular expression syntax][1] to see what's available, and remember that it is **not** necessary to finish all problems for a satisfactory result. If you get stuck on a problem, ask for help or move on to the next one. \n",
    "\n",
    "[1]: http://www.cs.tut.fi/~jkorpela/perl/regexp.html"
   ]
  },
  {
   "cell_type": "raw",
   "metadata": {},
   "source": [
    "[Moby Dick by Herman Melville 1851]\n",
    "\n",
    "\n",
    "ETYMOLOGY.\n",
    "\n",
    "(Supplied by a Late Consumptive Usher to a Grammar School)\n",
    "\n",
    "The pale Usher--threadbare in coat, heart, body, and brain; I see him\n",
    "now.  He was ever dusting his old lexicons and grammars, with a queer\n",
    "handkerchief, mockingly embellished with all the gay flags of all the\n",
    "known nations of the world.  He loved to dust his old grammars; it\n",
    "somehow mildly reminded him of his mortality.\n",
    "\n",
    "\"While you take in hand to school others, and to teach them by what\n",
    "name a whale-fish is to be called in our tongue leaving out, through\n",
    "ignorance, the letter H, which almost alone maketh the signification\n",
    "of the word, you deliver that which is not true.\" --HACKLUYT\n",
    "\n",
    "\"WHALE. ... Sw. and Dan. HVAL.  This animal is named from roundness\n",
    "or rolling; for in Dan. HVALT is arched or vaulted.\" --WEBSTER'S\n",
    "DICTIONARY  \n",
    "\n",
    "\"WHALE. ... It is more immediately from the Dut. and Ger. WALLEN;\n",
    "A.S. WALW-IAN, to roll, to wallow.\" --RICHARDSON'S DICTIONARY\n",
    "\n",
    "KETOS,               GREEK.\n",
    "CETUS,               LATIN.\n",
    "WHOEL,               ANGLO-SAXON.\n",
    "HVALT,               DANISH.\n",
    "WAL,                 DUTCH.\n",
    "HWAL,                SWEDISH.\n",
    "WHALE,               ICELANDIC.\n",
    "WHALE,               ENGLISH.\n",
    "BALEINE,             FRENCH.\n",
    "BALLENA,             SPANISH.\n",
    "PEKEE-NUEE-NUEE,     FEGEE.\n",
    "PEKEE-NUEE-NUEE,     ERROMANGOAN.\n"
   ]
  },
  {
   "cell_type": "markdown",
   "metadata": {},
   "source": [
    "## 2. Recognizing string patterns\n",
    "\n",
    "When we use a regexp to search, our tool highlights only the strings that match it. As human readers we can easily identify the words, lines or sentences that contain the match, so if we're looking for words or lines that contain \"gg\", it's enough to use the regexp /gg/. (The matches are alternately colored yellow and blue, to make it easy to see where they begin and end). Later on we'll write regexps that must match an entire word or line, but for now it's enough to match the pattern we're interested in.\n",
    "\n",
    "Construct the appropriate regular expression for each of the following tasks. Verify it by entering it in the top space of the regexpal.com webpage. Each task should be solved by a _single_ regular expression.\n",
    "\n",
    "<p\\/>\n",
    "\n",
    "** As in our textbook, enclose solutions in (forward) slashes /.../, which are not part of the regexp itself. The slashes will not be used when we use regular expressions with python.**\n",
    "\n",
    "\n",
    "1. Find all words containing a double \"e\" (i.e., two \"e\"'s next to each other).  \n",
    "<p\\/>  \n",
    "\n",
    "2. Repeat the previous search, using character ranges `[...]` to include capital \"E\"s in your search. Your regexp should match \"EE\", \"eE\", etc. (not just the combinations that actually occur). \n",
    "    <p\\/>  \n",
    "\n",
    "* Write a regexp that will help you find (in one search) all words containing either \"gr\" or \"gl\".  \n",
    "<p\\/>  \n",
    "\n",
    "* Find (with one regexp) all instances of both \"wa\" and \"wha\" in the text.  \n",
    "<p\\/>  \n",
    "\n",
    "* Find all places where the letter \"u\" is followed by a vowel. (Match all vowels, whether or not the combinations occur in the text.) \n",
    "<p\\/>  \n",
    "\n",
    "* Find all places where the letter \"u\" is followed by a neither a vowel nor a space.  \n",
    "<p\\/>  \n",
    "\n",
    "* Find all words of at least 12 letters.  \n",
    "<p\\/>  \n",
    "\n",
    "* Match all sequences of three dots (\"...\")  \n",
    "<p\\/>\n",
    "\n",
    "* Find all places where a period is followed by a lower-case letter, with **optional** spaces between them, as in \"e.g. here\" (note that **both** periods in the example qualify). These are periods that do not end a sentence.\n",
    "<p\\/>"
   ]
  },
  {
   "cell_type": "raw",
   "metadata": {},
   "source": [
    "# YOUR SOLUTIONS: (First problem set)\n",
    "\n",
    "1. [a-z]*ee[a-z]*\n",
    "2. [A-z]*[Ee][Ee][A-z]*\n",
    "3. gl|gr\n",
    "4. wh?a\n",
    "5. u[a,e,i,o,u]\n",
    "6. u[^a,e,i,o,u, ]\n",
    "7. [A-z]{12,}\n",
    "8. \\.\\.\\.\n",
    "9. \\. *[a-z]"
   ]
  },
  {
   "cell_type": "markdown",
   "metadata": {},
   "source": [
    "## 3. Character classes and other escapes\n",
    "\n",
    "The following tasks will make frequent use of the \"advanced operators\" for character classes (such as `\\w`), \n",
    "and the word boundary escape `\\b`. \n",
    "\n",
    "1. Find all instances of the string \"in\"; then find instances of the _word_ \"in\".  \n",
    "<p\\/>  \n",
    "\n",
    "2.  Find all instances of the _words_ \"to\" and \"is\" (with a single regexp).  \n",
    "<p\\/>  \n",
    "\n",
    "* Find all sequences of three or more consecutive vowels.   \n",
    "<p\\/>  \n",
    "\n",
    "* Consider Melville's list of cognate words for WHALE: The Germanic ones all start with one or more of the consonants \"W\", \"H\" and \"V\", followed by either \"A\" or \"E\", followed by \"L\" and an optional \"E\". Write a regular expression that matches this letter pattern.  \n",
    "<p\\/>  \n",
    "\n",
    "* Your last regexp should have matched all related (Germanic) terms except the Anglo-Saxon form, WHOEL. Expand your regexp to match it as well, and expand it further to also catch a final \"T\" as in the Danish form. \n",
    "<p\\/>"
   ]
  },
  {
   "cell_type": "raw",
   "metadata": {},
   "source": [
    "# YOUR SOLUTIONS: (Second problem set)\n",
    "\n",
    "1. in| in | in\\.\n",
    "2.  to | is \n",
    "3. [aeiou]{3}\n",
    "4. [WHV]*[AE]LE? //klopt nie\n",
    "5. "
   ]
  },
  {
   "cell_type": "markdown",
   "metadata": {},
   "source": [
    "## 4. Matching entire words\n",
    "\n",
    "To match an entire word, include one or both word boundaries in your regular expression. Remember that the boundary itself is not a character. E.g., the regexp `/hi\\b!/` will match \"hi!\", because there is a word boundary before the exclamation mark.  (Hyphenated expressions like \"hip-hop\" are considered to be two words.)\n",
    "\n",
    "1. Find all words of exactly two letters.  \n",
    "<p\\/>  \n",
    "\n",
    "* Find all words containing a double vowel (e.g., \"ee\"-- not two different vowels), in upper or lower case.  \n",
    "<p\\/>  \n",
    "\n",
    "* Find all words _ending_ in this pattern: \"a\", some _letter_, then \"e\" (as the last letter of the word).  \n",
    "<p\\/>  \n",
    "\n",
    "* Find all words _ending_ with the letters \"is\", that are **not** the word \"is\" (i.e., that contain more letters).\n",
    "<p\\/>\n",
    "\n",
    "* Find all words that begin with two consecutive vowels.  \n",
    "<p\\/>  \n",
    "\n",
    "* Find all places where two consecutive words start with a vowel.  \n",
    "<p\\/>"
   ]
  },
  {
   "cell_type": "raw",
   "metadata": {},
   "source": [
    "# YOUR SOLUTIONS: (Third problem set)\n",
    "\n",
    "1.  \n",
    "2. \n",
    "3. \n",
    "4. \n",
    "5. \n",
    "6."
   ]
  },
  {
   "cell_type": "markdown",
   "metadata": {},
   "source": [
    "## 5. Line-oriented searches\n",
    "\n",
    "These searches look for properties of lines, not words. It is not necessary to highlight (match) the whole line from start to end: Just make sure that anything you match is on a line that you want to select.\n",
    "\n",
    "1. Find all lines that begin with the letter \"W\".  \n",
    "<p\\/>  \n",
    "\n",
    "* Find all lines that begin with a word of exactly two letters.  \n",
    "<p\\/>  \n",
    "\n",
    "* Find all lines that end in a capital letter (possibly followed by one or more invisible spaces).\n",
    "<p\\/>  \n",
    "\n",
    "* Find all non-empty lines that have at most 30 characters.\n",
    "<p\\/>  "
   ]
  },
  {
   "cell_type": "raw",
   "metadata": {},
   "source": [
    "# YOUR SOLUTIONS: (Fourth problem set)\n",
    "\n",
    "1.  \n",
    "2. \n",
    "3. \n",
    "4."
   ]
  }
 ],
 "metadata": {
  "kernelspec": {
   "display_name": "Python 3 (ipykernel)",
   "language": "python",
   "name": "python3"
  },
  "language_info": {
   "codemirror_mode": {
    "name": "ipython",
    "version": 3
   },
   "file_extension": ".py",
   "mimetype": "text/x-python",
   "name": "python",
   "nbconvert_exporter": "python",
   "pygments_lexer": "ipython3",
   "version": "3.9.7"
  }
 },
 "nbformat": 4,
 "nbformat_minor": 1
}
