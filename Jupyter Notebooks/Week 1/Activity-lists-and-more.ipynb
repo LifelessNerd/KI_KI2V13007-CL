{
 "cells": [
  {
   "cell_type": "markdown",
   "metadata": {},
   "source": [
    "# Working with lists (and strings)\n",
    "\n",
    "\n",
    "_Practical Python for Linguistics and the Humanities -- Alexis Dimitriadis_"
   ]
  },
  {
   "cell_type": "markdown",
   "metadata": {
    "TableOfContents": 1
   },
   "source": [
    "## Contents\n",
    "\n",
    "\n",
    "**[1. Lists: The basics](#1.-Lists:-The-basics)**  \n",
    "&nbsp;&nbsp;&nbsp;&nbsp;\n",
    "  [1.1 Lists are \"containers\" that have multiple objects](#1.1-Lists-are-\"containers\"-that-have-multiple-objects)  \n",
    "&nbsp;&nbsp;&nbsp;&nbsp;\n",
    "  [1.2 Lists of strings](#1.2-Lists-of-strings)  \n",
    "&nbsp;&nbsp;&nbsp;&nbsp;\n",
    "  [1.3 Joining together a list of strings](#1.3-Joining-together-a-list-of-strings)  \n",
    "&nbsp;&nbsp;&nbsp;&nbsp;\n",
    "  [1.4 Printing lists of strings \"nicely\"](#1.4-Printing-lists-of-strings-\"nicely\")  \n",
    "&nbsp;&nbsp;&nbsp;&nbsp;\n",
    "  [1.5 Extracting sublists](#1.5-Extracting-sublists)  \n",
    "&nbsp;&nbsp;&nbsp;&nbsp;\n",
    "  [1.6 Modifying lists](#1.6-Modifying-lists)  \n",
    "&nbsp;&nbsp;&nbsp;&nbsp;\n",
    "  [1.7 Copies and references](#1.7-Copies-and-references)  \n",
    "\n",
    "**[2. Better flow control](#2.-Better-flow-control)**  \n",
    "&nbsp;&nbsp;&nbsp;&nbsp;\n",
    "  [2.1 Looping over a list](#2.1-Looping-over-a-list)  \n",
    "&nbsp;&nbsp;&nbsp;&nbsp;\n",
    "  [2.2 Using if-else statements](#2.2-Using-if-else-statements)  \n",
    "&nbsp;&nbsp;&nbsp;&nbsp;\n",
    "  [2.3 Looping without a counter](#2.3-Looping-without-a-counter)  \n",
    "&nbsp;&nbsp;&nbsp;&nbsp;\n",
    "  [2.4 Collecting results](#2.4-Collecting-results)  \n",
    "&nbsp;&nbsp;&nbsp;&nbsp;\n",
    "  [2.5 We can still count when we need to](#2.5-We-can-still-count-when-we-need-to)  \n",
    "&nbsp;&nbsp;&nbsp;&nbsp;\n",
    "  [2.6 The magic behind `range()`](#2.6-The-magic-behind-range%28%29)  \n",
    "\n",
    "**[3. More on functions](#3.-More-on-functions)**  \n",
    "&nbsp;&nbsp;&nbsp;&nbsp;\n",
    "  [3.1 Optional arguments to functions](#3.1-Optional-arguments-to-functions)  \n",
    "&nbsp;&nbsp;&nbsp;&nbsp;\n",
    "  [3.2 Named arguments (\"keyword arguments\")](#3.2-Named-arguments-%28\"keyword-arguments\"%29)  \n",
    "\n",
    "**[4. Your turn: Working with lists of strings](#4.-Your-turn:-Working-with-lists-of-strings)**  \n",
    "\n",
    "**[5. Function practice](#5.-Function-practice)**  \n",
    "\n",
    "**[6. Review: What we learned](#6.-Review:-What-we-learned)**  \n"
   ]
  },
  {
   "cell_type": "markdown",
   "metadata": {},
   "source": [
    "Lists are described in [Chapter 10][1] of Think Python, which you should **study ahead of this notebook.** Because the text covered a whole lot of ground, we revisit some important points now. Run the code samples and make sure you understand what they do. The last two sections are devoted to exercises.\n",
    "\n",
    "[1]: http://greenteapress.com/thinkpython2/html/thinkpython2011.html"
   ]
  },
  {
   "cell_type": "markdown",
   "metadata": {},
   "source": [
    "## 1. Lists: The basics"
   ]
  },
  {
   "cell_type": "markdown",
   "metadata": {},
   "source": [
    "### 1.1 Lists are \"containers\" that have multiple objects"
   ]
  },
  {
   "cell_type": "markdown",
   "metadata": {},
   "source": [
    "We create a list with square brackets. The function `len()` tells us how many elements a list contains."
   ]
  },
  {
   "cell_type": "code",
   "execution_count": null,
   "metadata": {
    "collapsed": false
   },
   "outputs": [],
   "source": [
    "primes = [ 1, 3, 5, 7, 11, 13, 17 ]\n",
    "print(\"I have\", len(primes), \"prime numbers\")"
   ]
  },
  {
   "cell_type": "markdown",
   "metadata": {},
   "source": [
    "We retrieve list elements by numeric position (\"index\"),\n",
    "also indicated by square brackets.  List indexes start from zero!"
   ]
  },
  {
   "cell_type": "code",
   "execution_count": null,
   "metadata": {
    "collapsed": false
   },
   "outputs": [],
   "source": [
    "print(primes[0], primes[1])"
   ]
  },
  {
   "cell_type": "markdown",
   "metadata": {},
   "source": [
    "In a list of length 7, the greatest index is 6:"
   ]
  },
  {
   "cell_type": "code",
   "execution_count": null,
   "metadata": {
    "collapsed": false
   },
   "outputs": [],
   "source": [
    "print(primes[6])"
   ]
  },
  {
   "cell_type": "markdown",
   "metadata": {},
   "source": [
    "I can append more elements to a list:"
   ]
  },
  {
   "cell_type": "code",
   "execution_count": null,
   "metadata": {
    "collapsed": false
   },
   "outputs": [],
   "source": [
    "primes.append(19)\n",
    "print(\"Now I have\", len(primes), \"prime numbers\")"
   ]
  },
  {
   "cell_type": "markdown",
   "metadata": {},
   "source": [
    "As with strings, negative indices have a special meaning:\n",
    "They count backwards from the end of the list."
   ]
  },
  {
   "cell_type": "code",
   "execution_count": null,
   "metadata": {
    "collapsed": false
   },
   "outputs": [],
   "source": [
    "print(\"My last prime is\", primes[-1])"
   ]
  },
  {
   "cell_type": "markdown",
   "metadata": {},
   "source": [
    "### 1.2 Lists of strings"
   ]
  },
  {
   "cell_type": "markdown",
   "metadata": {},
   "source": [
    "A list can contain anything, or any mix of things (including other lists)"
   ]
  },
  {
   "cell_type": "code",
   "execution_count": null,
   "metadata": {
    "collapsed": false
   },
   "outputs": [],
   "source": [
    "mix = [ 3, 4, 5, \"text\", primes ]\n",
    "print(mix)     # Note the brackets around the sublist:"
   ]
  },
  {
   "cell_type": "code",
   "execution_count": null,
   "metadata": {
    "collapsed": false
   },
   "outputs": [],
   "source": [
    "print(mix[-1]) # Last element: the entire list \"primes\""
   ]
  },
  {
   "cell_type": "markdown",
   "metadata": {},
   "source": [
    "To split a long string into a list of (almost) words, use the\n",
    "method `split()`:"
   ]
  },
  {
   "cell_type": "code",
   "execution_count": null,
   "metadata": {
    "collapsed": false
   },
   "outputs": [],
   "source": [
    "storyquote = \"\"\"King Arthur: The Lady of the Lake, her arm clad\n",
    "in the purest shimmering samite held aloft Excalibur\n",
    "from the bosom of the water, signifying by divine\n",
    "providence that I, Arthur, was to carry Excalibur.\n",
    "THAT is why I am your king.\n",
    "\"\"\"\n",
    "\n",
    "qwords = storyquote.split()\n",
    "print(qwords)"
   ]
  },
  {
   "cell_type": "markdown",
   "metadata": {},
   "source": [
    "Note that the string is broken up on whitespace (spaces and newlines). Punctuation goes with the word it is attached to.\n",
    "\n",
    "Strings are _a little_ like lists: They are sequences of letters.\n",
    "Indexing a string gives us letters, indexing a list gives us\n",
    "list elements (strings in this case):"
   ]
  },
  {
   "cell_type": "code",
   "execution_count": null,
   "metadata": {
    "collapsed": false
   },
   "outputs": [],
   "source": [
    "print(qwords[1])    # Word at index 1: 'Arthur:'\n",
    "\n",
    "print(storyquote[1])    # At index 1 of the string: WHAT WILL THIS PRINT?"
   ]
  },
  {
   "cell_type": "markdown",
   "metadata": {},
   "source": [
    "Counting also works with the appropriate units: Elements for lists, but characters for strings."
   ]
  },
  {
   "cell_type": "code",
   "execution_count": null,
   "metadata": {
    "collapsed": false
   },
   "outputs": [],
   "source": [
    "print(\"Characters:\",  len(storyquote), \"(string)\")\n",
    "print(\"Words:      \", len(qwords), \"(list of strings)\")"
   ]
  },
  {
   "cell_type": "markdown",
   "metadata": {},
   "source": [
    "### 1.3 Joining together a list of strings"
   ]
  },
  {
   "cell_type": "markdown",
   "metadata": {},
   "source": [
    "The method `join()` is the opposite of `split()`: \n",
    "\n",
    "- `split()` breaks up a string into a list of smaller strings, throwing away the separator (which, by default, is any amount of whitespace).\n",
    "- `join()` combines a list of strings into a single string, adding a separator. "
   ]
  },
  {
   "cell_type": "markdown",
   "metadata": {},
   "source": [
    "The following will join together the elements of `qwords`, adding a space between them:"
   ]
  },
  {
   "cell_type": "code",
   "execution_count": null,
   "metadata": {
    "collapsed": false
   },
   "outputs": [],
   "source": [
    "joined = \" \".join(qwords)\n",
    "print(joined)"
   ]
  },
  {
   "cell_type": "markdown",
   "metadata": {},
   "source": [
    "The syntax is a little convoluted: `join()` is a method of the \"separator\" string that will be inserted between our list elements, and our list is its _argument._ The reason for this puzzling choice is that a list can contain any type of object, but only lists of strings can be joined into a single string. \n",
    "\n",
    "Naturally, we can use other separator strings, even the empty string (which simply sticks the list elements together):"
   ]
  },
  {
   "cell_type": "code",
   "execution_count": null,
   "metadata": {
    "collapsed": false
   },
   "outputs": [],
   "source": [
    "fruit = [ \"apple\",\"banana\", \"cherry\", \"date\"  ]\n",
    "print(\" and \".join(fruit)) \n",
    "print(\"\".join(fruit))"
   ]
  },
  {
   "cell_type": "markdown",
   "metadata": {},
   "source": [
    "We can also specify a custom separator for `split()`, but this rarely useful. "
   ]
  },
  {
   "cell_type": "code",
   "execution_count": null,
   "metadata": {
    "collapsed": false
   },
   "outputs": [],
   "source": [
    "print(\"a:b:c:d\".split(\":\"))"
   ]
  },
  {
   "cell_type": "markdown",
   "metadata": {},
   "source": [
    "### Your turn:\n",
    "\n",
    "Split up the string `groceries` into a list of words, then join them back into a new string that has a comma and a space between words."
   ]
  },
  {
   "cell_type": "code",
   "execution_count": null,
   "metadata": {
    "collapsed": true
   },
   "outputs": [],
   "source": [
    "groceries = \"bananas apples chocolate spaghetti liver\""
   ]
  },
  {
   "cell_type": "code",
   "execution_count": null,
   "metadata": {
    "collapsed": true
   },
   "outputs": [],
   "source": [
    "# YOUR SOLUTION:\n"
   ]
  },
  {
   "cell_type": "markdown",
   "metadata": {},
   "source": [
    "### 1.4 Printing lists of strings \"nicely\"\n",
    "\n",
    "Note that when we ask `print` to print out a list of strings, Python shows us a detailed representation of the list (the so-called \"`repr`\" form), with all the brackets, commas and quotes we would need to define the list in a Python program. "
   ]
  },
  {
   "cell_type": "code",
   "execution_count": null,
   "metadata": {
    "collapsed": false
   },
   "outputs": [],
   "source": [
    "print(qwords)"
   ]
  },
  {
   "cell_type": "markdown",
   "metadata": {},
   "source": [
    "When we work with text, this is usually not what we want: we just want to see the words themselves. The method `join()` gives us one easy way to do this.  (Another way, which we will see presently, is to use a loop.)"
   ]
  },
  {
   "cell_type": "code",
   "execution_count": null,
   "metadata": {
    "collapsed": false
   },
   "outputs": [],
   "source": [
    "print(\" \".join(qwords))"
   ]
  },
  {
   "cell_type": "markdown",
   "metadata": {},
   "source": [
    "When you are asked to print a list of words \"nicely\", you should always arrange for the text to be shown without the brackets and other Python syntax."
   ]
  },
  {
   "cell_type": "markdown",
   "metadata": {},
   "source": [
    "### 1.5 Extracting sublists"
   ]
  },
  {
   "cell_type": "markdown",
   "metadata": {},
   "source": [
    "List \"slices\" work just like string slices.\n",
    "The following gives us a sublist starting at index 0\n",
    "and stopping just **before** index 5 (i.e., indexes 0 to 4)"
   ]
  },
  {
   "cell_type": "code",
   "execution_count": null,
   "metadata": {
    "collapsed": false
   },
   "outputs": [],
   "source": [
    "sublist = qwords[0:5]\n",
    "print(sublist)"
   ]
  },
  {
   "cell_type": "markdown",
   "metadata": {},
   "source": [
    "A missing start means 0, a missing end means the end of the list:"
   ]
  },
  {
   "cell_type": "code",
   "execution_count": null,
   "metadata": {
    "collapsed": false
   },
   "outputs": [],
   "source": [
    "print(qwords[:13])  # Print words at indices 0-12 only\n",
    "print(qwords[13:])  # Print words from index 13 on"
   ]
  },
  {
   "cell_type": "markdown",
   "metadata": {},
   "source": [
    "There's a lot more to using indices: See the readings and python\n",
    "documentation. "
   ]
  },
  {
   "cell_type": "markdown",
   "metadata": {},
   "source": [
    "### Your turn:\n",
    "\n",
    "Split the string `groceries` into a list of words, then use slicing to create a new list, `tasty`, that contains all except the last word. Print out your result."
   ]
  },
  {
   "cell_type": "code",
   "execution_count": null,
   "metadata": {
    "collapsed": true
   },
   "outputs": [],
   "source": [
    "groceries = \"bananas apples chocolate spaghetti liver\""
   ]
  },
  {
   "cell_type": "code",
   "execution_count": null,
   "metadata": {
    "collapsed": true
   },
   "outputs": [],
   "source": [
    "# YOUR SOLUTION:\n"
   ]
  },
  {
   "cell_type": "markdown",
   "metadata": {},
   "source": [
    "A list slice is a list, even if it contains just one element. Look carefully at the following expressions. Can you predict their output before you run the code? Execute the code cell, then look carefully at the result."
   ]
  },
  {
   "cell_type": "code",
   "execution_count": null,
   "metadata": {
    "collapsed": false
   },
   "outputs": [],
   "source": [
    "print(qwords[1])\n",
    "print(qwords[1:2])\n",
    "print(qwords[1:1])"
   ]
  },
  {
   "cell_type": "markdown",
   "metadata": {},
   "source": [
    "### 1.6 Modifying lists\n",
    "\n",
    "A list is a collection of objects, and we can modify individual elements with the assignment operator."
   ]
  },
  {
   "cell_type": "code",
   "execution_count": null,
   "metadata": {
    "collapsed": false
   },
   "outputs": [],
   "source": [
    "qwords[1] = \"Fred:\"\n",
    "print(qwords)"
   ]
  },
  {
   "cell_type": "markdown",
   "metadata": {},
   "source": [
    "We can also delete elements outright, using (among other ways) the operator `del`."
   ]
  },
  {
   "cell_type": "code",
   "execution_count": null,
   "metadata": {
    "collapsed": false
   },
   "outputs": [],
   "source": [
    "del qwords[0]\n",
    "del qwords[-10:]  # Delete the last ten elements\n",
    "print(qwords)"
   ]
  },
  {
   "cell_type": "markdown",
   "metadata": {},
   "source": [
    "Our list `qwords` is now a lot shorter. Run the last block of code, and you'll see it get even shorter. Note that the string `storyquote`, from which we split the list, has not been affected:"
   ]
  },
  {
   "cell_type": "code",
   "execution_count": null,
   "metadata": {
    "collapsed": false
   },
   "outputs": [],
   "source": [
    "print(storyquote)"
   ]
  },
  {
   "cell_type": "markdown",
   "metadata": {},
   "source": [
    "### Your turn:\n",
    "\n",
    "Redefine `qwords` so that it once again contains the full list of words, by splitting `storyquote` again."
   ]
  },
  {
   "cell_type": "code",
   "execution_count": null,
   "metadata": {
    "collapsed": true
   },
   "outputs": [],
   "source": [
    "# YOUR SOLUTION:\n"
   ]
  },
  {
   "cell_type": "markdown",
   "metadata": {},
   "source": [
    "### 1.7 Copies and references\n",
    "\n",
    "Let's try to make a copy of `qwords` so we can play with it. Study the following code, then run it **once** and inspect the results:"
   ]
  },
  {
   "cell_type": "code",
   "execution_count": null,
   "metadata": {
    "collapsed": false
   },
   "outputs": [],
   "source": [
    "print(\"Original:\", qwords)\n",
    "\n",
    "copy = qwords\n",
    "copy[1] = \"Fred:\"\n",
    "del copy[5:]\n",
    "print(\"copy, now:  \", copy)\n",
    "print(\"qwords, now:\", qwords)"
   ]
  },
  {
   "cell_type": "markdown",
   "metadata": {},
   "source": [
    "If you are not surprised, you should be: **Both the copy and the \"original\" were modified.** The reason is this: Assignment in Python doesn't actually copy objects (of any kind). It merely creates another name for the original object. (Technically: Another _reference_ to the original object.) For objects like lists whose parts can be modified, this can have very surprising effects. \n",
    "\n",
    "**Seeing is believing!** To make all this absolutely clear, check out [this great code visualization][1] on the site `pythontutor.com`. Use the **Forward** button to go through our code step by step. When you are done, you can use one of the links `Edit code` or `Live programming` (under the source code window) to modify the code or paste your own to explore further.\n",
    "\n",
    "[1]: http://pythontutor.com/visualize.html#code=qwords%20%3D%20%5B'King',%20'Arthur%3A',%20'The',%20'Lady',%20'of',%20'the',%20'Lake,',%20'her',%20'arm',%20'clad',%20'in',%20'the',%20'purest',%20'...'%5D%0A%0Acopy%20%3D%20qwords%0Acopy%5B1%5D%20%3D%20%22Fred%3A%22%0Adel%20copy%5B5%3A%5D&cumulative=false&curInstr=0&heapPrimitives=false&mode=display&origin=opt-frontend.js&py=3&rawInputLstJSON=%5B%5D&textReferences=false"
   ]
  },
  {
   "cell_type": "markdown",
   "metadata": {},
   "source": [
    "So how do we actually make a copy? Lists have a `copy()` method for just this purpose."
   ]
  },
  {
   "cell_type": "code",
   "execution_count": null,
   "metadata": {
    "collapsed": false
   },
   "outputs": [],
   "source": [
    "qwords = storyquote.split()\n",
    "copy = qwords.copy()\n",
    "del copy[5:]\n",
    "print(\"In qwords:\", len(qwords))\n",
    "print(\"In copy:\", len(copy))"
   ]
  },
  {
   "cell_type": "markdown",
   "metadata": {},
   "source": [
    "There are other ways to copy lists, but **the best approach is to simply avoid modifying lists:** Instead of deleting unwanted elements from a list, for example, it is usually simpler and faster to build a new list that contains just the elements we want. This is the approach we'll usually follow; you will not need to delete anything in the rest of this notebook."
   ]
  },
  {
   "cell_type": "markdown",
   "metadata": {},
   "source": [
    "## 2. Better flow control"
   ]
  },
  {
   "cell_type": "markdown",
   "metadata": {},
   "source": [
    "### 2.1 Looping over a list"
   ]
  },
  {
   "cell_type": "markdown",
   "metadata": {},
   "source": [
    "Here's a simple recipe for doing something with each word in the string. This particular loop prints \"umm\" before each word in our word list. Examine the code, then read the explanation below."
   ]
  },
  {
   "cell_type": "code",
   "execution_count": null,
   "metadata": {
    "collapsed": false
   },
   "outputs": [],
   "source": [
    "n = 0\n",
    "while n < len(qwords):\n",
    "    print(\"umm\", qwords[n], end=\" \")\n",
    "    n = n + 1\n",
    "print()\n",
    "print(\"Done\")"
   ]
  },
  {
   "cell_type": "markdown",
   "metadata": {},
   "source": [
    "Note how the two calls to `print` are written. The argument `end=\" \"` in the first call tells  `print` to add a space after the output of `print`, instead of the usual newline. In effect, it prevents `print` from adding a newline between words.  When the loop is done, the second `print()` call adds a newline to terminate the line. (I've added a final `print()` call to make the result visible.)\n",
    "\n",
    "In the following section, we examine this feature of `print()` in more detail."
   ]
  },
  {
   "cell_type": "markdown",
   "metadata": {},
   "source": [
    "### 2.2 Using if-else statements"
   ]
  },
  {
   "cell_type": "markdown",
   "metadata": {},
   "source": [
    "We can use `if`-`else` statements with a loop to pick out particular words, instead of printing everything. Can you tell what the following does? (The variable `qwords` should still contain the words from our earlier quote.)"
   ]
  },
  {
   "cell_type": "code",
   "execution_count": null,
   "metadata": {
    "collapsed": false
   },
   "outputs": [],
   "source": [
    "n = 0\n",
    "while n < len(qwords):\n",
    "    if 'a' in qwords[n]:\n",
    "        print(qwords[n], end=\" \")\n",
    "    n = n + 1\n",
    "print()    "
   ]
  },
  {
   "cell_type": "markdown",
   "metadata": {},
   "source": [
    "Here is a more elaborate example. **Try to deduce what it will do before you run the code.**"
   ]
  },
  {
   "cell_type": "code",
   "execution_count": null,
   "metadata": {
    "collapsed": false
   },
   "outputs": [],
   "source": [
    "n = 0\n",
    "while n < len(qwords):\n",
    "    word = qwords[n]\n",
    "    if word.startswith('s'):\n",
    "        print(word, end=\" \")\n",
    "    elif word.endswith(','):\n",
    "        print(',', end=\" \")\n",
    "    else:\n",
    "        print(\"*\", end=\" \")\n",
    "    n = n + 1\n",
    "print()"
   ]
  },
  {
   "cell_type": "markdown",
   "metadata": {},
   "source": [
    "### 2.3 Looping without a counter"
   ]
  },
  {
   "cell_type": "raw",
   "metadata": {},
   "source": [
    "When we process text, we usually want to do something with each word\n",
    "or line (or sentence), without caring about its offset (index). Python offers an powerful device for working with sequences of elements, the `for`-loop. Consider the following example, which works with our list of words:"
   ]
  },
  {
   "cell_type": "code",
   "execution_count": null,
   "metadata": {
    "collapsed": false
   },
   "outputs": [],
   "source": [
    "n = 0\n",
    "while n < len(qwords):\n",
    "    if len(qwords[n]) <= 3:\n",
    "        print(qwords[n])\n",
    "    n = n + 1"
   ]
  },
  {
   "cell_type": "markdown",
   "metadata": {},
   "source": [
    "Using a for-loop, we can rewrite the above like this:"
   ]
  },
  {
   "cell_type": "code",
   "execution_count": null,
   "metadata": {
    "collapsed": false
   },
   "outputs": [],
   "source": [
    "for w in qwords:   # Set w to each element in turn\n",
    "    if len(w) <= 3:\n",
    "        print(w)"
   ]
  },
  {
   "cell_type": "markdown",
   "metadata": {},
   "source": [
    "The syntax of the `for` loop is: `for <variable> in <sequence>:`, followed by an indented block of code (the \"body\" of the loop). Schematically:\n",
    "```\n",
    "for x in <sequence>:\n",
    "    <do stuff with x>\n",
    "```\n",
    "(Note that the `if` statement in our example is not required! It's just something we put in the body of this loop). In contrast to the `while` loop, there is no counter and nothing to increment. The indented block, the \"body\" of the loop, will be executed once for each element of the list `<sequence>`, with the loop variable set to that element. Then the loop will exit. Because `for`-loops are so much simpler, you should prefer them whenever you are visiting every element of a sequence."
   ]
  },
  {
   "cell_type": "markdown",
   "metadata": {},
   "source": [
    "### Your turn:\n",
    "\n",
    "Use a `for`-loop to print \"umm\" before each word in our word list. (Separate the words with spaces, as usual.) "
   ]
  },
  {
   "cell_type": "code",
   "execution_count": null,
   "metadata": {
    "collapsed": true
   },
   "outputs": [],
   "source": [
    "# YOUR SOLUTION:\n"
   ]
  },
  {
   "cell_type": "markdown",
   "metadata": {},
   "source": [
    "### 2.4 Collecting results\n",
    "\n",
    "Instead of simply printing out the short words in our list, it is more useful to collect them into a new list. We can do this by creating an empty list, then using its `append()` method (remember it?) to add words to it:"
   ]
  },
  {
   "cell_type": "code",
   "execution_count": null,
   "metadata": {
    "collapsed": true
   },
   "outputs": [],
   "source": [
    "shortwords = []\n",
    "for w in qwords:\n",
    "    if len(w) <= 3:\n",
    "        shortwords.append(w)"
   ]
  },
  {
   "cell_type": "markdown",
   "metadata": {},
   "source": [
    "### Your turn:\n",
    "\n",
    "Copy the above block of code and modify it so that the list `shortwords` is printed out every time it grows. (I.e., only print it out after a short word has been found and added)."
   ]
  },
  {
   "cell_type": "code",
   "execution_count": null,
   "metadata": {
    "collapsed": false
   },
   "outputs": [],
   "source": [
    "# YOUR SOLUTION:\n"
   ]
  },
  {
   "cell_type": "markdown",
   "metadata": {},
   "source": [
    "### 2.5 We can still count when we need to"
   ]
  },
  {
   "cell_type": "markdown",
   "metadata": {},
   "source": [
    "What if we just want to do something 10 times?"
   ]
  },
  {
   "cell_type": "code",
   "execution_count": null,
   "metadata": {
    "collapsed": false
   },
   "outputs": [],
   "source": [
    "for n in range(10):\n",
    "    print(n, \"do something\")\n"
   ]
  },
  {
   "cell_type": "markdown",
   "metadata": {},
   "source": [
    "The function `range(10)` returns the ten numbers from 0 to 9. As with slices, the number at the end of the range is not included in the generated sequence. `range()` can also be called with two arguments, in which case the sequence starts with the first number instead of with zero."
   ]
  },
  {
   "cell_type": "code",
   "execution_count": null,
   "metadata": {
    "collapsed": false
   },
   "outputs": [],
   "source": [
    "for n in range(5, 10):\n",
    "    print(n, \"Mississippi\")"
   ]
  },
  {
   "cell_type": "markdown",
   "metadata": {},
   "source": [
    "We can also change the \"step\" between successive values of the range:"
   ]
  },
  {
   "cell_type": "code",
   "execution_count": null,
   "metadata": {
    "collapsed": false
   },
   "outputs": [],
   "source": [
    "for num in range(10, 20, 2):\n",
    "    print(num, end=\" \")"
   ]
  },
  {
   "cell_type": "markdown",
   "metadata": {},
   "source": [
    "Incidentally, string and list slices also allow a step argument, as a third index. E.g., to select every third letter from the first fifteen letters of a string:"
   ]
  },
  {
   "cell_type": "code",
   "execution_count": null,
   "metadata": {
    "collapsed": false
   },
   "outputs": [],
   "source": [
    "letters = \"ABCDEFGHIJKLMNOPQRSTUVWXYZ\"\n",
    "print(letters[0:15:3])"
   ]
  },
  {
   "cell_type": "markdown",
   "metadata": {},
   "source": [
    "### 2.6 The magic behind `range()`"
   ]
  },
  {
   "cell_type": "markdown",
   "metadata": {},
   "source": [
    "Although `range()` behaves like a list, you should be aware (because you'll find out anyway) that it is not really a list:"
   ]
  },
  {
   "cell_type": "code",
   "execution_count": null,
   "metadata": {
    "collapsed": false
   },
   "outputs": [],
   "source": [
    "x = range(10, 15)\n",
    "# List-like\n",
    "print(x[3])\n",
    "print(\"x has\", len(x), \"elements\")\n",
    "\n",
    "# Not list-like:\n",
    "print(type(x))\n",
    "print(x)"
   ]
  },
  {
   "cell_type": "markdown",
   "metadata": {},
   "source": [
    "`range()` gives us a special object (an \"iterator\") specifically designed to handle large number ranges. Because it doesn't actually build a list of all the numbers, it can work quickly even if we specify enormous limits. Of course, if necessary we can convert the range to a real list (which will be as large as it needs to)."
   ]
  },
  {
   "cell_type": "code",
   "execution_count": null,
   "metadata": {
    "collapsed": false
   },
   "outputs": [],
   "source": [
    "x = range(100, 10000000000000000000, 350)\n",
    "print(x)\n",
    "print(\"Number of elements in range x:\", len(x))\n",
    "print(x[50000000])\n",
    "\n",
    "# Convert a (not huge) range to a list:\n",
    "numbers = list(range(200))  \n",
    "print(numbers)"
   ]
  },
  {
   "cell_type": "markdown",
   "metadata": {},
   "source": [
    "Python makes wide use of iterators, often behind the scenes. We'll learn more as we encounter them."
   ]
  },
  {
   "cell_type": "markdown",
   "metadata": {},
   "source": [
    "## 3. More on functions"
   ]
  },
  {
   "cell_type": "markdown",
   "metadata": {},
   "source": [
    "### 3.1 Optional arguments to functions"
   ]
  },
  {
   "cell_type": "markdown",
   "metadata": {},
   "source": [
    "We now return to functions. If you are hazy on defining and using your own functions, review the topic now (in the earlier notebook) before you go on."
   ]
  },
  {
   "cell_type": "markdown",
   "metadata": {},
   "source": [
    "Functions can have one or more _optional_ arguments: we can call the function without giving a value for them. In python, the motivation for optional arguments is the principle \"don't state the obvious\". Optional arguments have a predefined \"default\" value, which they automatically receive whenever we call a function without one of its optional arguments.\n",
    "\n",
    "Here's our old blackboard punishment function. Since the typical punishment is to write something a hundred times, we can make this number the default:"
   ]
  },
  {
   "cell_type": "code",
   "execution_count": null,
   "metadata": {
    "collapsed": false
   },
   "outputs": [],
   "source": [
    "def write_on_blackboard(message, howmany=100):\n",
    "    for n in range(0, howmany):\n",
    "        print(n+1, message)\n",
    "\n",
    "# This will run with `howmany=20`\n",
    "write_on_blackboard(\"Practice makes perfect\", 20)\n",
    "\n",
    "# This will run with `howmany=100`\n",
    "write_on_blackboard(\"I will not skateboard in class\")\n"
   ]
  },
  {
   "cell_type": "markdown",
   "metadata": {},
   "source": [
    "We can define functions that take any number of arguments,\n",
    "obligatory or optional. Optional arguments must come after obligatory ones -- otherwise we wouldn't be able to omit them!"
   ]
  },
  {
   "cell_type": "code",
   "execution_count": null,
   "metadata": {
    "collapsed": false
   },
   "outputs": [],
   "source": [
    "def greet(name, greeting=\"Hello\", times=1):\n",
    "    for n in range(times):\n",
    "        print(greeting, name+\"!\")\n",
    "\n",
    "greet(\"Alexis\")\n",
    "greet(\"Bob\", \"Welcome,\", 3)"
   ]
  },
  {
   "cell_type": "markdown",
   "metadata": {},
   "source": [
    "### 3.2 Named arguments (\"keyword arguments\")"
   ]
  },
  {
   "cell_type": "markdown",
   "metadata": {},
   "source": [
    "We usually keep track of arguments by their position: first, second, etc.\n",
    "But sometimes (especially with functions that have several optional arguments,\n",
    "or simply lots of arguments), it is convenient to identify an argument\n",
    "by name (\"keyword arguments\"):"
   ]
  },
  {
   "cell_type": "code",
   "execution_count": null,
   "metadata": {
    "collapsed": false
   },
   "outputs": [],
   "source": [
    "greet(\"Alexis\", times=3)"
   ]
  },
  {
   "cell_type": "markdown",
   "metadata": {},
   "source": [
    "No special command is necessary: Python always allows us to identify function arguments by the name they were given when the function was defined. "
   ]
  },
  {
   "cell_type": "markdown",
   "metadata": {},
   "source": [
    "## 4. Your turn: Working with lists of strings"
   ]
  },
  {
   "cell_type": "markdown",
   "metadata": {},
   "source": [
    "We will now review what we just learned, and practice working with a short text. Corpus searches of all sorts are just more elaborate versions of this kind of manipulations."
   ]
  },
  {
   "cell_type": "markdown",
   "metadata": {},
   "source": [
    "**Task 1:** Copy and paste the following text, and assign it to a string variable named `dialog`. Be sure to preserve the newlines (i.e., don't edit it so that the whole thing is one huge line).\n",
    "\n",
    "<pre>\n",
    "DENNIS: [interrupting] Listen -- strange women lying in \n",
    "        ponds distributin' swords is no basis for a system of\n",
    "        government.  Supreme executive power derives from a mandate \n",
    "        from the masses, not from some farcical aquatic ceremony.\n",
    "ARTHUR: Be quiet!\n",
    "DENNIS: Well you can't expect to wield supreme executive power\n",
    "        just 'cause some watery tart threw a sword at you!\n",
    "ARTHUR: Shut up! \n",
    "        [...]\n",
    "DENNIS: HELP! HELP! I'm being repressed!\n",
    "</pre>"
   ]
  },
  {
   "cell_type": "code",
   "execution_count": null,
   "metadata": {
    "collapsed": false
   },
   "outputs": [],
   "source": [
    "# YOUR SOLUTION:\n"
   ]
  },
  {
   "cell_type": "markdown",
   "metadata": {},
   "source": [
    "**Task 2:** Split the string `dialog` into a list of words, and use a loop to print it one word per line. Also report how many words there are in `dialog`."
   ]
  },
  {
   "cell_type": "code",
   "execution_count": null,
   "metadata": {
    "collapsed": false
   },
   "outputs": [],
   "source": [
    "# YOUR SOLUTION:\n"
   ]
  },
  {
   "cell_type": "markdown",
   "metadata": {},
   "source": [
    "**Task 3:** Use another loop to print only words of four letters or more, \n",
    " as running text (_not_ one word per line)."
   ]
  },
  {
   "cell_type": "code",
   "execution_count": null,
   "metadata": {
    "collapsed": false
   },
   "outputs": [],
   "source": [
    "# YOUR SOLUTION:\n"
   ]
  },
  {
   "cell_type": "markdown",
   "metadata": {},
   "source": [
    "**Task 4:** Print only every fifth word, again as running text. You could use the modulo operator `%` (if n is an integer, `(n % 5)` is zero only if 5 divides `n`), or any other method. "
   ]
  },
  {
   "cell_type": "code",
   "execution_count": null,
   "metadata": {
    "collapsed": false
   },
   "outputs": [],
   "source": [
    "# YOUR SOLUTION:\n"
   ]
  },
  {
   "cell_type": "markdown",
   "metadata": {},
   "source": [
    "**Task 5:** Use the method `append()` to build a list of all words in `dialog` that have four letters or more. "
   ]
  },
  {
   "cell_type": "code",
   "execution_count": null,
   "metadata": {
    "collapsed": false
   },
   "outputs": [],
   "source": [
    "# YOUR SOLUTION:\n"
   ]
  },
  {
   "cell_type": "markdown",
   "metadata": {},
   "source": [
    "**Task 6:** Build a list of all words in `dialog` that begin with \"s\" or \"S\"."
   ]
  },
  {
   "cell_type": "code",
   "execution_count": null,
   "metadata": {
    "collapsed": false
   },
   "outputs": [],
   "source": [
    "# YOUR SOLUTION:\n"
   ]
  },
  {
   "cell_type": "markdown",
   "metadata": {},
   "source": [
    "**Task 7:** Using your list of all words in `dialog`, create a string that contains the **even numbered** words, i.e. the words at index 0, 2, 4, etc. Separate the words with spaces."
   ]
  },
  {
   "cell_type": "code",
   "execution_count": null,
   "metadata": {
    "collapsed": false
   },
   "outputs": [],
   "source": [
    "# YOUR SOLUTION:\n"
   ]
  },
  {
   "cell_type": "markdown",
   "metadata": {},
   "source": [
    "-----------------------------------"
   ]
  },
  {
   "cell_type": "markdown",
   "metadata": {},
   "source": [
    "## 5. Function practice\n",
    "\n",
    "The Fibonacci numbers are a sequence where each\n",
    "number Fn is the sum of the two previous numbers, starting with 1, 1:\n",
    "\n",
    "    1, 1, 2, 3, 5, 8, 13, 21, 34, ...\n",
    "\n",
    "**Task 8:** Write a loop that prints out all Fibonacci numbers smaller than a million.  \n",
    "HINT: Use two or more variables."
   ]
  },
  {
   "cell_type": "code",
   "execution_count": null,
   "metadata": {
    "collapsed": false
   },
   "outputs": [],
   "source": [
    "# YOUR SOLUTION:\n"
   ]
  },
  {
   "cell_type": "markdown",
   "metadata": {},
   "source": [
    "<span>**Task 9:**</span> Write a **function** `fib(n)` that will calculate (and return) the n'th Fibonacci number, where:\n",
    "\n",
    "`fib(0) = fib(1) = 1`, and so `fib(2) = 2`, `fib(5) = 8`, etc."
   ]
  },
  {
   "cell_type": "code",
   "execution_count": null,
   "metadata": {
    "collapsed": false
   },
   "outputs": [],
   "source": [
    "# YOUR SOLUTION:\n"
   ]
  },
  {
   "cell_type": "markdown",
   "metadata": {},
   "source": [
    "## 6. Review: What we learned\n",
    "\n",
    "### Things you'll need to know by heart\n",
    "\n",
    "Here are some essential skills from today's notebook. If you have to look them up in the future, you won't be able to progress. So make sure they roll off your fingers.\n",
    "\n",
    "* The syntax for defining a list. Example: Define a list `demo` containing (in that order) the numbers 1, 3, 4, 20, and the strings `\"hello\"` and `\"goodbye\"`.\n",
    "\n",
    "* The function that gives us the number of elements in a list.\n",
    "\n",
    "* How to split a string into a list of words, and how to join the list of words back together.\n",
    "\n",
    "* How to keep the output of several `print` statements on the same line.\n",
    "\n",
    "* The syntax for indexing and simple slicing (and the meaning of these terms). Examples: The index of the last element of a list (regardless of length). The first element? The next-to-last element? The last ten elements?"
   ]
  },
  {
   "cell_type": "markdown",
   "metadata": {},
   "source": [
    "### Your turn:\n",
    "\n",
    "Test your memory by trying out the skills in the above checklist. Go back and review the relevant sections until you feel that you can handle such tasks without needing to look up anything."
   ]
  },
  {
   "cell_type": "code",
   "execution_count": null,
   "metadata": {
    "collapsed": true
   },
   "outputs": [],
   "source": [
    "\n"
   ]
  },
  {
   "cell_type": "markdown",
   "metadata": {
    "collapsed": true
   },
   "source": [
    "### Things you should remember you saw\n",
    "\n",
    "Here are some things you will not need as often; make sure you rememeber that they exist, and where you saw them, and you can always google them or come back to this notebook when you need them.\n",
    "\n",
    "* There are ways to make a real copy of a list.\n",
    "\n",
    "* How to \"slice\" off part of a list into a smaller list. Examples: Slice off the first 3 elements of the list; or the last 4 elements. \n",
    "\n",
    "* How to define a function with optional arguments.\n",
    "\n",
    "* `range()` can do a lot more than give us a list of numbers from 1 to `N`.\n",
    "\n",
    "* Python's \"iterators\" behave like lists, but are not."
   ]
  }
 ],
 "metadata": {
  "kernelspec": {
   "display_name": "Python 3",
   "language": "python",
   "name": "python3"
  },
  "language_info": {
   "codemirror_mode": {
    "name": "ipython",
    "version": 3
   },
   "file_extension": ".py",
   "mimetype": "text/x-python",
   "name": "python",
   "nbconvert_exporter": "python",
   "pygments_lexer": "ipython3",
   "version": "3.4.4"
  }
 },
 "nbformat": 4,
 "nbformat_minor": 0
}
